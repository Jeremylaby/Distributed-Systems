{
 "cells": [
  {
   "cell_type": "markdown",
   "id": "451a0bc8",
   "metadata": {},
   "source": [
    "### Potrzebne importy"
   ]
  },
  {
   "cell_type": "code",
   "execution_count": 1,
   "id": "965769f2",
   "metadata": {},
   "outputs": [
    {
     "name": "stderr",
     "output_type": "stream",
     "text": [
      "2025-05-13 00:05:38,080\tINFO util.py:154 -- Missing packages: ['ipywidgets']. Run `pip install -U ipywidgets`, then restart the notebook server for rich notebook output.\n"
     ]
    }
   ],
   "source": [
    "from __future__ import absolute_import\n",
    "from __future__ import division\n",
    "from __future__ import print_function\n",
    "\n",
    "import ray\n",
    "import time\n",
    "import numpy as np\n",
    "from numpy import random\n",
    "import os\n",
    "import pickle"
   ]
  },
  {
   "cell_type": "markdown",
   "id": "472f4261",
   "metadata": {},
   "source": [
    "### Ray init\n"
   ]
  },
  {
   "cell_type": "code",
   "execution_count": 2,
   "id": "a915adf3",
   "metadata": {},
   "outputs": [
    {
     "name": "stderr",
     "output_type": "stream",
     "text": [
      "2025-05-13 00:05:46,391\tINFO worker.py:1843 -- Started a local Ray instance. View the dashboard at \u001b[1m\u001b[32mhttp://127.0.0.1:8265 \u001b[39m\u001b[22m\n"
     ]
    },
    {
     "data": {
      "text/html": [
       "<div class=\"lm-Widget p-Widget lm-Panel p-Panel jp-Cell-outputWrapper\">\n",
       "    <div style=\"margin-left: 50px;display: flex;flex-direction: row;align-items: center\">\n",
       "        <div class=\"jp-RenderedHTMLCommon\" style=\"display: flex; flex-direction: row;\">\n",
       "  <svg viewBox=\"0 0 567 224\" fill=\"none\" xmlns=\"http://www.w3.org/2000/svg\" style=\"height: 3em;\">\n",
       "    <g clip-path=\"url(#clip0_4338_178347)\">\n",
       "        <path d=\"M341.29 165.561H355.29L330.13 129.051C345.63 123.991 354.21 112.051 354.21 94.2307C354.21 71.3707 338.72 58.1807 311.88 58.1807H271V165.561H283.27V131.661H311.8C314.25 131.661 316.71 131.501 319.01 131.351L341.25 165.561H341.29ZM283.29 119.851V70.0007H311.82C331.3 70.0007 342.34 78.2907 342.34 94.5507C342.34 111.271 331.34 119.861 311.82 119.861L283.29 119.851ZM451.4 138.411L463.4 165.561H476.74L428.74 58.1807H416L367.83 165.561H380.83L392.83 138.411H451.4ZM446.19 126.601H398L422 72.1407L446.24 126.601H446.19ZM526.11 128.741L566.91 58.1807H554.35L519.99 114.181L485.17 58.1807H472.44L514.01 129.181V165.541H526.13V128.741H526.11Z\" fill=\"var(--jp-ui-font-color0)\"/>\n",
       "        <path d=\"M82.35 104.44C84.0187 97.8827 87.8248 92.0678 93.1671 87.9146C98.5094 83.7614 105.083 81.5067 111.85 81.5067C118.617 81.5067 125.191 83.7614 130.533 87.9146C135.875 92.0678 139.681 97.8827 141.35 104.44H163.75C164.476 101.562 165.622 98.8057 167.15 96.2605L127.45 56.5605C121.071 60.3522 113.526 61.6823 106.235 60.3005C98.9443 58.9187 92.4094 54.9203 87.8602 49.0574C83.3109 43.1946 81.0609 35.8714 81.5332 28.4656C82.0056 21.0599 85.1679 14.0819 90.4252 8.8446C95.6824 3.60726 102.672 0.471508 110.08 0.0272655C117.487 -0.416977 124.802 1.86091 130.647 6.4324C136.493 11.0039 140.467 17.5539 141.821 24.8501C143.175 32.1463 141.816 39.6859 138 46.0505L177.69 85.7505C182.31 82.9877 187.58 81.4995 192.962 81.4375C198.345 81.3755 203.648 82.742 208.33 85.3976C213.012 88.0532 216.907 91.9029 219.616 96.5544C222.326 101.206 223.753 106.492 223.753 111.875C223.753 117.258 222.326 122.545 219.616 127.197C216.907 131.848 213.012 135.698 208.33 138.353C203.648 141.009 198.345 142.375 192.962 142.313C187.58 142.251 182.31 140.763 177.69 138L138 177.7C141.808 184.071 143.155 191.614 141.79 198.91C140.424 206.205 136.44 212.75 130.585 217.313C124.731 221.875 117.412 224.141 110.004 223.683C102.596 223.226 95.6103 220.077 90.3621 214.828C85.1139 209.58 81.9647 202.595 81.5072 195.187C81.0497 187.779 83.3154 180.459 87.878 174.605C92.4405 168.751 98.9853 164.766 106.281 163.401C113.576 162.035 121.119 163.383 127.49 167.19L167.19 127.49C165.664 124.941 164.518 122.182 163.79 119.3H141.39C139.721 125.858 135.915 131.673 130.573 135.826C125.231 139.98 118.657 142.234 111.89 142.234C105.123 142.234 98.5494 139.98 93.2071 135.826C87.8648 131.673 84.0587 125.858 82.39 119.3H60C58.1878 126.495 53.8086 132.78 47.6863 136.971C41.5641 141.163 34.1211 142.972 26.7579 142.059C19.3947 141.146 12.6191 137.574 7.70605 132.014C2.79302 126.454 0.0813599 119.29 0.0813599 111.87C0.0813599 104.451 2.79302 97.2871 7.70605 91.7272C12.6191 86.1673 19.3947 82.5947 26.7579 81.6817C34.1211 80.7686 41.5641 82.5781 47.6863 86.7696C53.8086 90.9611 58.1878 97.2456 60 104.44H82.35ZM100.86 204.32C103.407 206.868 106.759 208.453 110.345 208.806C113.93 209.159 117.527 208.258 120.522 206.256C123.517 204.254 125.725 201.276 126.771 197.828C127.816 194.38 127.633 190.677 126.253 187.349C124.874 184.021 122.383 181.274 119.205 179.577C116.027 177.88 112.359 177.337 108.826 178.042C105.293 178.746 102.113 180.654 99.8291 183.44C97.5451 186.226 96.2979 189.718 96.3 193.32C96.2985 195.364 96.7006 197.388 97.4831 199.275C98.2656 201.163 99.4132 202.877 100.86 204.32ZM204.32 122.88C206.868 120.333 208.453 116.981 208.806 113.396C209.159 109.811 208.258 106.214 206.256 103.219C204.254 100.223 201.275 98.0151 197.827 96.97C194.38 95.9249 190.676 96.1077 187.348 97.4873C184.02 98.8669 181.274 101.358 179.577 104.536C177.879 107.714 177.337 111.382 178.041 114.915C178.746 118.448 180.653 121.627 183.439 123.911C186.226 126.195 189.717 127.443 193.32 127.44C195.364 127.443 197.388 127.042 199.275 126.259C201.163 125.476 202.878 124.328 204.32 122.88ZM122.88 19.4205C120.333 16.8729 116.981 15.2876 113.395 14.9347C109.81 14.5817 106.213 15.483 103.218 17.4849C100.223 19.4868 98.0146 22.4654 96.9696 25.9131C95.9245 29.3608 96.1073 33.0642 97.4869 36.3922C98.8665 39.7202 101.358 42.4668 104.535 44.1639C107.713 45.861 111.381 46.4036 114.914 45.6992C118.447 44.9949 121.627 43.0871 123.911 40.301C126.195 37.515 127.442 34.0231 127.44 30.4205C127.44 28.3772 127.038 26.3539 126.255 24.4664C125.473 22.5788 124.326 20.8642 122.88 19.4205ZM19.42 100.86C16.8725 103.408 15.2872 106.76 14.9342 110.345C14.5813 113.93 15.4826 117.527 17.4844 120.522C19.4863 123.518 22.4649 125.726 25.9127 126.771C29.3604 127.816 33.0638 127.633 36.3918 126.254C39.7198 124.874 42.4664 122.383 44.1635 119.205C45.8606 116.027 46.4032 112.359 45.6988 108.826C44.9944 105.293 43.0866 102.114 40.3006 99.8296C37.5145 97.5455 34.0227 96.2983 30.42 96.3005C26.2938 96.3018 22.337 97.9421 19.42 100.86ZM100.86 100.86C98.3125 103.408 96.7272 106.76 96.3742 110.345C96.0213 113.93 96.9226 117.527 98.9244 120.522C100.926 123.518 103.905 125.726 107.353 126.771C110.8 127.816 114.504 127.633 117.832 126.254C121.16 124.874 123.906 122.383 125.604 119.205C127.301 116.027 127.843 112.359 127.139 108.826C126.434 105.293 124.527 102.114 121.741 99.8296C118.955 97.5455 115.463 96.2983 111.86 96.3005C109.817 96.299 107.793 96.701 105.905 97.4835C104.018 98.2661 102.303 99.4136 100.86 100.86Z\" fill=\"#00AEEF\"/>\n",
       "    </g>\n",
       "    <defs>\n",
       "        <clipPath id=\"clip0_4338_178347\">\n",
       "            <rect width=\"566.93\" height=\"223.75\" fill=\"white\"/>\n",
       "        </clipPath>\n",
       "    </defs>\n",
       "  </svg>\n",
       "</div>\n",
       "\n",
       "        <table class=\"jp-RenderedHTMLCommon\" style=\"border-collapse: collapse;color: var(--jp-ui-font-color1);font-size: var(--jp-ui-font-size1);\">\n",
       "    <tr>\n",
       "        <td style=\"text-align: left\"><b>Python version:</b></td>\n",
       "        <td style=\"text-align: left\"><b>3.11.9</b></td>\n",
       "    </tr>\n",
       "    <tr>\n",
       "        <td style=\"text-align: left\"><b>Ray version:</b></td>\n",
       "        <td style=\"text-align: left\"><b>2.44.1</b></td>\n",
       "    </tr>\n",
       "    <tr>\n",
       "    <td style=\"text-align: left\"><b>Dashboard:</b></td>\n",
       "    <td style=\"text-align: left\"><b><a href=\"http://127.0.0.1:8265\" target=\"_blank\">http://127.0.0.1:8265</a></b></td>\n",
       "</tr>\n",
       "\n",
       "</table>\n",
       "\n",
       "    </div>\n",
       "</div>\n"
      ],
      "text/plain": [
       "RayContext(dashboard_url='127.0.0.1:8265', python_version='3.11.9', ray_version='2.44.1', ray_commit='daca7b2b1a950dc7f731e34e74c76ae383794ffe')"
      ]
     },
     "execution_count": 2,
     "metadata": {},
     "output_type": "execute_result"
    },
    {
     "name": "stdout",
     "output_type": "stream",
     "text": [
      "\u001b[36m(NameNode pid=33068)\u001b[0m \u001b[36mray::DataNode.read()\u001b[39m (pid=1600, ip=127.0.0.1, actor_id=ead0b09829635e0ccc57cc4601000000, repr=<__main__.DataNode object at 0x0000020F01227250>)\n",
      "\u001b[36m(NameNode pid=33068)\u001b[0m   File \"python\\\\ray\\\\_raylet.pyx\", line 1895, in ray._raylet.execute_task\n",
      "\u001b[36m(NameNode pid=33068)\u001b[0m   File \"python\\\\ray\\\\_raylet.pyx\", line 1835, in ray._raylet.execute_task.function_executor\n",
      "\u001b[36m(NameNode pid=33068)\u001b[0m   File \"c:\\Users\\stani\\AppData\\Local\\Programs\\Python\\Python311\\Lib\\site-packages\\ray\\_private\\function_manager.py\", line 689, in actor_method_executor\n",
      "\u001b[36m(NameNode pid=33068)\u001b[0m     return method(__ray_actor, *args, **kwargs)\n",
      "\u001b[36m(NameNode pid=33068)\u001b[0m            ^^^^^^^^^^^^^^^^^^^^^^^^^^^^^^^^^^^^\n",
      "\u001b[36m(NameNode pid=33068)\u001b[0m   File \"c:\\Users\\stani\\AppData\\Local\\Programs\\Python\\Python311\\Lib\\site-packages\\ray\\util\\tracing\\tracing_helper.py\", line 463, in _resume_span\n",
      "\u001b[36m(NameNode pid=33068)\u001b[0m     return method(self, *_args, **_kwargs)\n",
      "\u001b[36m(NameNode pid=33068)\u001b[0m            ^^^^^^^^^^^^^^^^^^^^^^^^^^^^^^^\n",
      "\u001b[36m(NameNode pid=33068)\u001b[0m   File \"C:\\Users\\stani\\AppData\\Local\\Temp\\ipykernel_4116\\1494843002.py\", line 15, in read\n",
      "\u001b[36m(NameNode pid=33068)\u001b[0m NodeUnactiveException: DataNode 'node2' is inactive\n"
     ]
    }
   ],
   "source": [
    "if ray.is_initialized:\n",
    "    ray.shutdown()\n",
    "ray.init(ignore_reinit_error=True)"
   ]
  },
  {
   "cell_type": "markdown",
   "id": "efdd10e5",
   "metadata": {},
   "source": [
    "### DataNode"
   ]
  },
  {
   "cell_type": "code",
   "execution_count": 3,
   "id": "28705712",
   "metadata": {},
   "outputs": [],
   "source": [
    "class NodeUnactiveException(Exception):\n",
    "    def __init__(self, node_id: str):\n",
    "        super().__init__(f\"DataNode '{node_id}' is inactive\")\n",
    "        self.node_id = node_id"
   ]
  },
  {
   "cell_type": "code",
   "execution_count": 4,
   "id": "d428af57",
   "metadata": {},
   "outputs": [],
   "source": [
    "@ray.remote\n",
    "class DataNode:\n",
    "    def __init__(self, node_id):\n",
    "        self.node_id = node_id\n",
    "        self.chunks = {}\n",
    "        self.ready = True\n",
    "    def disable(self):\n",
    "        self.ready = False\n",
    "    def enable(self):\n",
    "        self.ready = True\n",
    "    def store(self, chunk_id, data):\n",
    "        self.chunks[chunk_id] = data\n",
    "    def read (self, chunk_id):\n",
    "        if not self.ready:\n",
    "            raise NodeUnactiveException(self.node_id)\n",
    "        return self.chunks[chunk_id]\n",
    "    def get_chunks(self):\n",
    "        if not self.ready:\n",
    "            raise NodeUnactiveException(self.node_id)\n",
    "        return dict(self.chunks)\n",
    "    def remove_chunk(self, chunk_id):\n",
    "        if not chunk_id in self.chunks: raise ValueError(f\"There is not such chunk_id\")\n",
    "        self.chunks.pop(chunk_id)"
   ]
  },
  {
   "cell_type": "markdown",
   "id": "4f79fb1f",
   "metadata": {},
   "source": [
    "### NameNode"
   ]
  },
  {
   "cell_type": "code",
   "execution_count": 5,
   "id": "e2160ee2",
   "metadata": {},
   "outputs": [],
   "source": [
    "@ray.remote\n",
    "class NameNode:\n",
    "    def __init__(self, replication=2, chunk_size = 10):\n",
    "        self.chunk_size = chunk_size\n",
    "        self.replication = replication\n",
    "        self.node_map = {}\n",
    "        self.block_locations = {}\n",
    "        self.artifacts = {}\n",
    "    def register (self, node_id, node):\n",
    "        if node_id in self.node_map: raise ValueError(f\"{node_id} already taken\")\n",
    "        self.node_map[node_id] = node\n",
    "    \n",
    "    def _store(self, name, artifact):\n",
    "        node_ids = list(self.node_map.keys())\n",
    "        count = len(node_ids)\n",
    "        if count == 0:\n",
    "            raise RuntimeError(\"Register Storage Nodes\")\n",
    "        chunks = [artifact[i:i+self.chunk_size] for i in range(0, len(artifact), self.chunk_size)]\n",
    "        chunk_ids = []\n",
    "        for idx, chunk in enumerate(chunks):\n",
    "            chunk_id = f\"{name}_chunk_{idx}\"\n",
    "            chunk_ids.append(chunk_id)\n",
    "            start = idx % count\n",
    "            locs = []\n",
    "            for r in range(self.replication):\n",
    "                nid = node_ids[(start + r) % count]\n",
    "                self.node_map[nid].store.remote(chunk_id, chunk)\n",
    "                locs.append(nid)\n",
    "            self.block_locations[chunk_id] = locs\n",
    "        self.artifacts[name] = chunk_ids\n",
    "    def read_artifact(self, name):\n",
    "        if not name in self.artifacts: raise ValueError(f\"There is not such artifact {name}\")\n",
    "        chunk_ids = self.artifacts[name]\n",
    "        parts = []\n",
    "        for chunk_id in chunk_ids:\n",
    "            chunk = None\n",
    "            for node_id in self.block_locations[chunk_id]:\n",
    "                node = self.node_map[node_id]\n",
    "                try:\n",
    "                    data = ray.get(node.read.remote(chunk_id))\n",
    "                    break\n",
    "                except NodeUnactiveException as e:\n",
    "                    print(e)\n",
    "            if data is None:\n",
    "                raise RuntimeError(f\"Failed to read chunk {chunk_id}\")\n",
    "            parts.append(data)\n",
    "        return \"\".join(parts)\n",
    "\n",
    "    def delete_artifact(self, name):\n",
    "        if name not in self.artifacts:\n",
    "            raise ValueError(f\"Artifact {name} not found\")\n",
    "        for chunk_id in self.artifacts[name]:\n",
    "            for node_id in self.block_locations[chunk_id]:\n",
    "                self.node_map[node_id].remove_chunk.remote(chunk_id)\n",
    "            del self.block_locations[chunk_id]\n",
    "        del self.artifacts[name]\n",
    "    def reupload_artifact(self, name , artifact):\n",
    "        self.delete_artifact(name)\n",
    "        self._store(name, artifact)\n",
    "\n",
    "    def upload_artifact(self,name, artifact):\n",
    "        if name in self.artifacts: raise ValueError(f\"Artifact {name} exists\")\n",
    "        self._store(name, artifact)\n",
    "    def list_artifacts(self):\n",
    "        return list(self.artifacts.keys())\n",
    "\n",
    "    def list_nodes(self):\n",
    "        return list(self.node_map.keys())\n",
    "\n",
    "    def locate(self, name):\n",
    "        if name not in self.artifacts:\n",
    "            raise ValueError(f\"Artifact {name} not found\")\n",
    "        return { chunk_id: self.block_locations[chunk_id]\n",
    "                 for chunk_id in self.artifacts[name] }\n",
    "\n",
    "    def list_node(self, node_id):\n",
    "        if node_id not in self.node_map:\n",
    "            raise ValueError(f\"Node {node_id} not found\")\n",
    "        return ray.get(self.node_map[node_id].get_chunks.remote())\n",
    "\n"
   ]
  },
  {
   "cell_type": "markdown",
   "id": "3e2f0acf",
   "metadata": {},
   "source": [
    "### Testing\n",
    "\n",
    "adding first artifact"
   ]
  },
  {
   "cell_type": "code",
   "execution_count": 6,
   "id": "89a5958a",
   "metadata": {},
   "outputs": [
    {
     "name": "stdout",
     "output_type": "stream",
     "text": [
      "read artifact: ABCDEFGHIJKLMNOPQRSTUVWXYZ\n",
      "all artifacts: ['artifact1']\n",
      "all nodes: ['node1', 'node2', 'node3']\n",
      "locations: {'artifact1_chunk_0': ['node1', 'node2'], 'artifact1_chunk_1': ['node2', 'node3'], 'artifact1_chunk_2': ['node3', 'node1']}\n",
      "node1 chunks: {'artifact1_chunk_0': 'ABCDEFGHIJ', 'artifact1_chunk_2': 'UVWXYZ'}\n",
      "node2 chunks: {'artifact1_chunk_0': 'ABCDEFGHIJ', 'artifact1_chunk_1': 'KLMNOPQRST'}\n",
      "node3 chunks: {'artifact1_chunk_1': 'KLMNOPQRST', 'artifact1_chunk_2': 'UVWXYZ'}\n"
     ]
    }
   ],
   "source": [
    "nn = NameNode.remote(replication=2)\n",
    "dn1 = DataNode.remote(\"node1\")\n",
    "dn2 = DataNode.remote(\"node2\")\n",
    "dn3 = DataNode.remote(\"node3\")\n",
    "\n",
    "ray.get(nn.register.remote(\"node1\", dn1))\n",
    "ray.get(nn.register.remote(\"node2\", dn2))\n",
    "ray.get(nn.register.remote(\"node3\", dn3))\n",
    "\n",
    "ray.get(nn.upload_artifact.remote(\"artifact1\", \"ABCDEFGHIJKLMNOPQRSTUVWXYZ\"))\n",
    "\n",
    "print(\"read artifact:\", ray.get(nn.read_artifact.remote(\"artifact1\")))\n",
    "print(\"all artifacts:\", ray.get(nn.list_artifacts.remote()))\n",
    "print(\"all nodes:\", ray.get(nn.list_nodes.remote()))\n",
    "print(\"locations:\", ray.get(nn.locate.remote(\"artifact1\")))\n",
    "\n",
    "print(\"node1 chunks:\", ray.get(nn.list_node.remote(\"node1\")))\n",
    "print(\"node2 chunks:\", ray.get(nn.list_node.remote(\"node2\")))\n",
    "print(\"node3 chunks:\", ray.get(nn.list_node.remote(\"node3\")))"
   ]
  },
  {
   "cell_type": "code",
   "execution_count": 7,
   "id": "98dbfcb3",
   "metadata": {},
   "outputs": [
    {
     "name": "stdout",
     "output_type": "stream",
     "text": [
      "read artifact2: 12345678901234567890123456789012345678901234567890\n",
      "all artifacts: ['artifact1', 'artifact2']\n",
      "all nodes: ['node1', 'node2', 'node3']\n",
      "locations artifact2: {'artifact2_chunk_0': ['node1', 'node2'], 'artifact2_chunk_1': ['node2', 'node3'], 'artifact2_chunk_2': ['node3', 'node1'], 'artifact2_chunk_3': ['node1', 'node2'], 'artifact2_chunk_4': ['node2', 'node3']}\n",
      "node1 chunks: {'artifact1_chunk_0': 'ABCDEFGHIJ', 'artifact1_chunk_2': 'UVWXYZ', 'artifact2_chunk_0': '1234567890', 'artifact2_chunk_2': '1234567890', 'artifact2_chunk_3': '1234567890'}\n",
      "node2 chunks: {'artifact1_chunk_0': 'ABCDEFGHIJ', 'artifact1_chunk_1': 'KLMNOPQRST', 'artifact2_chunk_0': '1234567890', 'artifact2_chunk_1': '1234567890', 'artifact2_chunk_3': '1234567890', 'artifact2_chunk_4': '1234567890'}\n",
      "node3 chunks: {'artifact1_chunk_1': 'KLMNOPQRST', 'artifact1_chunk_2': 'UVWXYZ', 'artifact2_chunk_1': '1234567890', 'artifact2_chunk_2': '1234567890', 'artifact2_chunk_4': '1234567890'}\n"
     ]
    }
   ],
   "source": [
    "ray.get(nn.upload_artifact.remote(\"artifact2\", \"1234567890\"*5))\n",
    "\n",
    "print(\"read artifact2:\", ray.get(nn.read_artifact.remote(\"artifact2\")))\n",
    "print(\"all artifacts:\", ray.get(nn.list_artifacts.remote()))\n",
    "print(\"all nodes:\", ray.get(nn.list_nodes.remote()))\n",
    "print(\"locations artifact2:\", ray.get(nn.locate.remote(\"artifact2\")))\n",
    "print(\"node1 chunks:\", ray.get(nn.list_node.remote(\"node1\")))\n",
    "print(\"node2 chunks:\", ray.get(nn.list_node.remote(\"node2\")))\n",
    "print(\"node3 chunks:\", ray.get(nn.list_node.remote(\"node3\")))"
   ]
  },
  {
   "cell_type": "code",
   "execution_count": 8,
   "id": "32c02de3",
   "metadata": {},
   "outputs": [
    {
     "name": "stdout",
     "output_type": "stream",
     "text": [
      "read artifact1 with node2 disabled: ABCDEFGHIJKLMNOPQRSTUVWXYZ\n"
     ]
    }
   ],
   "source": [
    "ray.get(dn2.disable.remote())\n",
    "\n",
    "print(\"read artifact1 with node2 disabled:\",\n",
    "      ray.get(nn.read_artifact.remote(\"artifact1\")))\n"
   ]
  },
  {
   "cell_type": "code",
   "execution_count": 9,
   "id": "7ea25185",
   "metadata": {},
   "outputs": [],
   "source": [
    "ray.get(dn2.enable.remote())"
   ]
  },
  {
   "cell_type": "code",
   "execution_count": 10,
   "id": "130549df",
   "metadata": {},
   "outputs": [
    {
     "name": "stdout",
     "output_type": "stream",
     "text": [
      "read artifact3: Lorem ipsum dolor sit amet, consectetur adipiscing elit. Sed non risus. Suspendisse lectus tortor, dignissim sit amet, adipiscing nec, ultricies sed, dolor. \n",
      "Cras elementum ultrices diam. Maecenas ligula massa, varius a, semper congue, euismod non, mi. Proin porttitor, orci nec nonummy molestie, enim est eleifend mi, non fermentum diam nisl sit amet erat.\n",
      "read artifact4: Sed ut perspiciatis unde omnis iste natus error sit voluptatem accusantium doloremque laudantium, totam rem aperiam, eaque ipsa quae ab illo inventore veritatis et quasi architecto beatae vitae dicta sunt explicabo. \n",
      "Nemo enim ipsam voluptatem quia voluptas sit aspernatur aut odit aut fugit.\n",
      "all artifacts: ['artifact1', 'artifact2', 'artifact3', 'artifact4']\n",
      "all nodes: ['node1', 'node2', 'node3', 'node4', 'node5']\n",
      "locations artifact3: {'artifact3_chunk_0': ['node1', 'node2'], 'artifact3_chunk_1': ['node2', 'node3'], 'artifact3_chunk_2': ['node3', 'node4'], 'artifact3_chunk_3': ['node4', 'node5'], 'artifact3_chunk_4': ['node5', 'node1'], 'artifact3_chunk_5': ['node1', 'node2'], 'artifact3_chunk_6': ['node2', 'node3'], 'artifact3_chunk_7': ['node3', 'node4'], 'artifact3_chunk_8': ['node4', 'node5'], 'artifact3_chunk_9': ['node5', 'node1'], 'artifact3_chunk_10': ['node1', 'node2'], 'artifact3_chunk_11': ['node2', 'node3'], 'artifact3_chunk_12': ['node3', 'node4'], 'artifact3_chunk_13': ['node4', 'node5'], 'artifact3_chunk_14': ['node5', 'node1'], 'artifact3_chunk_15': ['node1', 'node2'], 'artifact3_chunk_16': ['node2', 'node3'], 'artifact3_chunk_17': ['node3', 'node4'], 'artifact3_chunk_18': ['node4', 'node5'], 'artifact3_chunk_19': ['node5', 'node1'], 'artifact3_chunk_20': ['node1', 'node2'], 'artifact3_chunk_21': ['node2', 'node3'], 'artifact3_chunk_22': ['node3', 'node4'], 'artifact3_chunk_23': ['node4', 'node5'], 'artifact3_chunk_24': ['node5', 'node1'], 'artifact3_chunk_25': ['node1', 'node2'], 'artifact3_chunk_26': ['node2', 'node3'], 'artifact3_chunk_27': ['node3', 'node4'], 'artifact3_chunk_28': ['node4', 'node5'], 'artifact3_chunk_29': ['node5', 'node1'], 'artifact3_chunk_30': ['node1', 'node2'], 'artifact3_chunk_31': ['node2', 'node3'], 'artifact3_chunk_32': ['node3', 'node4'], 'artifact3_chunk_33': ['node4', 'node5'], 'artifact3_chunk_34': ['node5', 'node1'], 'artifact3_chunk_35': ['node1', 'node2']}\n",
      "locations artifact4: {'artifact4_chunk_0': ['node1', 'node2'], 'artifact4_chunk_1': ['node2', 'node3'], 'artifact4_chunk_2': ['node3', 'node4'], 'artifact4_chunk_3': ['node4', 'node5'], 'artifact4_chunk_4': ['node5', 'node1'], 'artifact4_chunk_5': ['node1', 'node2'], 'artifact4_chunk_6': ['node2', 'node3'], 'artifact4_chunk_7': ['node3', 'node4'], 'artifact4_chunk_8': ['node4', 'node5'], 'artifact4_chunk_9': ['node5', 'node1'], 'artifact4_chunk_10': ['node1', 'node2'], 'artifact4_chunk_11': ['node2', 'node3'], 'artifact4_chunk_12': ['node3', 'node4'], 'artifact4_chunk_13': ['node4', 'node5'], 'artifact4_chunk_14': ['node5', 'node1'], 'artifact4_chunk_15': ['node1', 'node2'], 'artifact4_chunk_16': ['node2', 'node3'], 'artifact4_chunk_17': ['node3', 'node4'], 'artifact4_chunk_18': ['node4', 'node5'], 'artifact4_chunk_19': ['node5', 'node1'], 'artifact4_chunk_20': ['node1', 'node2'], 'artifact4_chunk_21': ['node2', 'node3'], 'artifact4_chunk_22': ['node3', 'node4'], 'artifact4_chunk_23': ['node4', 'node5'], 'artifact4_chunk_24': ['node5', 'node1'], 'artifact4_chunk_25': ['node1', 'node2'], 'artifact4_chunk_26': ['node2', 'node3'], 'artifact4_chunk_27': ['node3', 'node4'], 'artifact4_chunk_28': ['node4', 'node5'], 'artifact4_chunk_29': ['node5', 'node1']}\n",
      "node1 chunks: {'artifact1_chunk_0': 'ABCDEFGHIJ', 'artifact1_chunk_2': 'UVWXYZ', 'artifact2_chunk_0': '1234567890', 'artifact2_chunk_2': '1234567890', 'artifact2_chunk_3': '1234567890', 'artifact3_chunk_0': 'Lorem ipsu', 'artifact3_chunk_4': 'adipiscing', 'artifact3_chunk_5': ' elit. Sed', 'artifact3_chunk_9': ' tortor, d', 'artifact3_chunk_10': 'ignissim s', 'artifact3_chunk_14': 'cies sed, ', 'artifact3_chunk_15': 'dolor. \\nCr', 'artifact3_chunk_19': 'ecenas lig', 'artifact3_chunk_20': 'ula massa,', 'artifact3_chunk_24': 'mod non, m', 'artifact3_chunk_25': 'i. Proin p', 'artifact3_chunk_29': 'estie, eni', 'artifact3_chunk_30': 'm est elei', 'artifact3_chunk_34': 'sl sit ame', 'artifact3_chunk_35': 't erat.', 'artifact4_chunk_0': 'Sed ut per', 'artifact4_chunk_4': 's error si', 'artifact4_chunk_5': 't voluptat', 'artifact4_chunk_9': 'antium, to', 'artifact4_chunk_10': 'tam rem ap', 'artifact4_chunk_14': ' inventore', 'artifact4_chunk_15': ' veritatis', 'artifact4_chunk_19': 'tae dicta ', 'artifact4_chunk_20': 'sunt expli', 'artifact4_chunk_24': 'tem quia v', 'artifact4_chunk_25': 'oluptas si', 'artifact4_chunk_29': 't.'}\n",
      "node2 chunks: {'artifact1_chunk_0': 'ABCDEFGHIJ', 'artifact1_chunk_1': 'KLMNOPQRST', 'artifact2_chunk_0': '1234567890', 'artifact2_chunk_1': '1234567890', 'artifact2_chunk_3': '1234567890', 'artifact2_chunk_4': '1234567890', 'artifact3_chunk_0': 'Lorem ipsu', 'artifact3_chunk_1': 'm dolor si', 'artifact3_chunk_5': ' elit. Sed', 'artifact3_chunk_6': ' non risus', 'artifact3_chunk_10': 'ignissim s', 'artifact3_chunk_11': 'it amet, a', 'artifact3_chunk_15': 'dolor. \\nCr', 'artifact3_chunk_16': 'as element', 'artifact3_chunk_20': 'ula massa,', 'artifact3_chunk_21': ' varius a,', 'artifact3_chunk_25': 'i. Proin p', 'artifact3_chunk_26': 'orttitor, ', 'artifact3_chunk_30': 'm est elei', 'artifact3_chunk_31': 'fend mi, n', 'artifact3_chunk_35': 't erat.', 'artifact4_chunk_0': 'Sed ut per', 'artifact4_chunk_1': 'spiciatis ', 'artifact4_chunk_5': 't voluptat', 'artifact4_chunk_6': 'em accusan', 'artifact4_chunk_10': 'tam rem ap', 'artifact4_chunk_11': 'eriam, eaq', 'artifact4_chunk_15': ' veritatis', 'artifact4_chunk_16': ' et quasi ', 'artifact4_chunk_20': 'sunt expli', 'artifact4_chunk_21': 'cabo. \\nNem', 'artifact4_chunk_25': 'oluptas si', 'artifact4_chunk_26': 't aspernat'}\n",
      "node3 chunks: {'artifact1_chunk_1': 'KLMNOPQRST', 'artifact1_chunk_2': 'UVWXYZ', 'artifact2_chunk_1': '1234567890', 'artifact2_chunk_2': '1234567890', 'artifact2_chunk_4': '1234567890', 'artifact3_chunk_1': 'm dolor si', 'artifact3_chunk_2': 't amet, co', 'artifact3_chunk_6': ' non risus', 'artifact3_chunk_7': '. Suspendi', 'artifact3_chunk_11': 'it amet, a', 'artifact3_chunk_12': 'dipiscing ', 'artifact3_chunk_16': 'as element', 'artifact3_chunk_17': 'um ultrice', 'artifact3_chunk_21': ' varius a,', 'artifact3_chunk_22': ' semper co', 'artifact3_chunk_26': 'orttitor, ', 'artifact3_chunk_27': 'orci nec n', 'artifact3_chunk_31': 'fend mi, n', 'artifact3_chunk_32': 'on ferment', 'artifact4_chunk_1': 'spiciatis ', 'artifact4_chunk_2': 'unde omnis', 'artifact4_chunk_6': 'em accusan', 'artifact4_chunk_7': 'tium dolor', 'artifact4_chunk_11': 'eriam, eaq', 'artifact4_chunk_12': 'ue ipsa qu', 'artifact4_chunk_16': ' et quasi ', 'artifact4_chunk_17': 'architecto', 'artifact4_chunk_21': 'cabo. \\nNem', 'artifact4_chunk_22': 'o enim ips', 'artifact4_chunk_26': 't aspernat', 'artifact4_chunk_27': 'ur aut odi'}\n",
      "node4 chunks: {'artifact3_chunk_2': 't amet, co', 'artifact3_chunk_3': 'nsectetur ', 'artifact3_chunk_7': '. Suspendi', 'artifact3_chunk_8': 'sse lectus', 'artifact3_chunk_12': 'dipiscing ', 'artifact3_chunk_13': 'nec, ultri', 'artifact3_chunk_17': 'um ultrice', 'artifact3_chunk_18': 's diam. Ma', 'artifact3_chunk_22': ' semper co', 'artifact3_chunk_23': 'ngue, euis', 'artifact3_chunk_27': 'orci nec n', 'artifact3_chunk_28': 'onummy mol', 'artifact3_chunk_32': 'on ferment', 'artifact3_chunk_33': 'um diam ni', 'artifact4_chunk_2': 'unde omnis', 'artifact4_chunk_3': ' iste natu', 'artifact4_chunk_7': 'tium dolor', 'artifact4_chunk_8': 'emque laud', 'artifact4_chunk_12': 'ue ipsa qu', 'artifact4_chunk_13': 'ae ab illo', 'artifact4_chunk_17': 'architecto', 'artifact4_chunk_18': ' beatae vi', 'artifact4_chunk_22': 'o enim ips', 'artifact4_chunk_23': 'am volupta', 'artifact4_chunk_27': 'ur aut odi', 'artifact4_chunk_28': 't aut fugi'}\n",
      "node5 chunks: {'artifact3_chunk_3': 'nsectetur ', 'artifact3_chunk_4': 'adipiscing', 'artifact3_chunk_8': 'sse lectus', 'artifact3_chunk_9': ' tortor, d', 'artifact3_chunk_13': 'nec, ultri', 'artifact3_chunk_14': 'cies sed, ', 'artifact3_chunk_18': 's diam. Ma', 'artifact3_chunk_19': 'ecenas lig', 'artifact3_chunk_23': 'ngue, euis', 'artifact3_chunk_24': 'mod non, m', 'artifact3_chunk_28': 'onummy mol', 'artifact3_chunk_29': 'estie, eni', 'artifact3_chunk_33': 'um diam ni', 'artifact3_chunk_34': 'sl sit ame', 'artifact4_chunk_3': ' iste natu', 'artifact4_chunk_4': 's error si', 'artifact4_chunk_8': 'emque laud', 'artifact4_chunk_9': 'antium, to', 'artifact4_chunk_13': 'ae ab illo', 'artifact4_chunk_14': ' inventore', 'artifact4_chunk_18': ' beatae vi', 'artifact4_chunk_19': 'tae dicta ', 'artifact4_chunk_23': 'am volupta', 'artifact4_chunk_24': 'tem quia v', 'artifact4_chunk_28': 't aut fugi', 'artifact4_chunk_29': 't.'}\n"
     ]
    }
   ],
   "source": [
    "# Dodanie dwóch nowych storage node’ów i ich rejestracja\n",
    "dn4 = DataNode.remote(\"node4\")\n",
    "dn5 = DataNode.remote(\"node5\")\n",
    "\n",
    "ray.get(nn.register.remote(\"node4\", dn4))\n",
    "ray.get(nn.register.remote(\"node5\", dn5))\n",
    "\n",
    "# Definicje dwóch nowych artefaktów\n",
    "artifact3 = \"\"\"Lorem ipsum dolor sit amet, consectetur adipiscing elit. Sed non risus. Suspendisse lectus tortor, dignissim sit amet, adipiscing nec, ultricies sed, dolor. \n",
    "Cras elementum ultrices diam. Maecenas ligula massa, varius a, semper congue, euismod non, mi. Proin porttitor, orci nec nonummy molestie, enim est eleifend mi, non fermentum diam nisl sit amet erat.\"\"\"\n",
    "\n",
    "artifact4 = \"\"\"Sed ut perspiciatis unde omnis iste natus error sit voluptatem accusantium doloremque laudantium, totam rem aperiam, eaque ipsa quae ab illo inventore veritatis et quasi architecto beatae vitae dicta sunt explicabo. \n",
    "Nemo enim ipsam voluptatem quia voluptas sit aspernatur aut odit aut fugit.\"\"\"\n",
    "\n",
    "# Upload artefaktów jako artifact3 i artifact4\n",
    "ray.get(nn.upload_artifact.remote(\"artifact3\", artifact3))\n",
    "ray.get(nn.upload_artifact.remote(\"artifact4\", artifact4))\n",
    "\n",
    "# Odczyt każdego artefaktu i wypisanie stanów\n",
    "print(\"read artifact3:\", ray.get(nn.read_artifact.remote(\"artifact3\")))\n",
    "print(\"read artifact4:\", ray.get(nn.read_artifact.remote(\"artifact4\")))\n",
    "\n",
    "print(\"all artifacts:\", ray.get(nn.list_artifacts.remote()))\n",
    "print(\"all nodes:\", ray.get(nn.list_nodes.remote()))\n",
    "\n",
    "print(\"locations artifact3:\", ray.get(nn.locate.remote(\"artifact3\")))\n",
    "print(\"locations artifact4:\", ray.get(nn.locate.remote(\"artifact4\")))\n",
    "\n",
    "print(\"node1 chunks:\", ray.get(nn.list_node.remote(\"node1\")))\n",
    "print(\"node2 chunks:\", ray.get(nn.list_node.remote(\"node2\")))\n",
    "print(\"node3 chunks:\", ray.get(nn.list_node.remote(\"node3\")))\n",
    "print(\"node4 chunks:\", ray.get(nn.list_node.remote(\"node4\")))\n",
    "print(\"node5 chunks:\", ray.get(nn.list_node.remote(\"node5\")))\n"
   ]
  },
  {
   "cell_type": "code",
   "execution_count": 11,
   "id": "cda11a99",
   "metadata": {},
   "outputs": [
    {
     "name": "stdout",
     "output_type": "stream",
     "text": [
      "read artifact1 after reupload: At vero eos et accusamus et iusto odio dignissimos ducimus qui blanditiis praesentium \n",
      "voluptatum deleniti atque corrupti quos dolores et quas molestias excepturi sint occaecati cupiditate \n",
      "non provident, similique sunt in culpa qui officia deserunt mollitia animi, id est laborum et dolorum fuga.\n",
      "locations artifact1: {'artifact1_chunk_0': ['node1', 'node2'], 'artifact1_chunk_1': ['node2', 'node3'], 'artifact1_chunk_2': ['node3', 'node4'], 'artifact1_chunk_3': ['node4', 'node5'], 'artifact1_chunk_4': ['node5', 'node1'], 'artifact1_chunk_5': ['node1', 'node2'], 'artifact1_chunk_6': ['node2', 'node3'], 'artifact1_chunk_7': ['node3', 'node4'], 'artifact1_chunk_8': ['node4', 'node5'], 'artifact1_chunk_9': ['node5', 'node1'], 'artifact1_chunk_10': ['node1', 'node2'], 'artifact1_chunk_11': ['node2', 'node3'], 'artifact1_chunk_12': ['node3', 'node4'], 'artifact1_chunk_13': ['node4', 'node5'], 'artifact1_chunk_14': ['node5', 'node1'], 'artifact1_chunk_15': ['node1', 'node2'], 'artifact1_chunk_16': ['node2', 'node3'], 'artifact1_chunk_17': ['node3', 'node4'], 'artifact1_chunk_18': ['node4', 'node5'], 'artifact1_chunk_19': ['node5', 'node1'], 'artifact1_chunk_20': ['node1', 'node2'], 'artifact1_chunk_21': ['node2', 'node3'], 'artifact1_chunk_22': ['node3', 'node4'], 'artifact1_chunk_23': ['node4', 'node5'], 'artifact1_chunk_24': ['node5', 'node1'], 'artifact1_chunk_25': ['node1', 'node2'], 'artifact1_chunk_26': ['node2', 'node3'], 'artifact1_chunk_27': ['node3', 'node4'], 'artifact1_chunk_28': ['node4', 'node5'], 'artifact1_chunk_29': ['node5', 'node1']}\n",
      "all artifacts: ['artifact2', 'artifact3', 'artifact4', 'artifact1']\n",
      "all nodes: ['node1', 'node2', 'node3', 'node4', 'node5']\n",
      "node1 chunks: {'artifact2_chunk_0': '1234567890', 'artifact2_chunk_2': '1234567890', 'artifact2_chunk_3': '1234567890', 'artifact3_chunk_0': 'Lorem ipsu', 'artifact3_chunk_4': 'adipiscing', 'artifact3_chunk_5': ' elit. Sed', 'artifact3_chunk_9': ' tortor, d', 'artifact3_chunk_10': 'ignissim s', 'artifact3_chunk_14': 'cies sed, ', 'artifact3_chunk_15': 'dolor. \\nCr', 'artifact3_chunk_19': 'ecenas lig', 'artifact3_chunk_20': 'ula massa,', 'artifact3_chunk_24': 'mod non, m', 'artifact3_chunk_25': 'i. Proin p', 'artifact3_chunk_29': 'estie, eni', 'artifact3_chunk_30': 'm est elei', 'artifact3_chunk_34': 'sl sit ame', 'artifact3_chunk_35': 't erat.', 'artifact4_chunk_0': 'Sed ut per', 'artifact4_chunk_4': 's error si', 'artifact4_chunk_5': 't voluptat', 'artifact4_chunk_9': 'antium, to', 'artifact4_chunk_10': 'tam rem ap', 'artifact4_chunk_14': ' inventore', 'artifact4_chunk_15': ' veritatis', 'artifact4_chunk_19': 'tae dicta ', 'artifact4_chunk_20': 'sunt expli', 'artifact4_chunk_24': 'tem quia v', 'artifact4_chunk_25': 'oluptas si', 'artifact4_chunk_29': 't.', 'artifact1_chunk_0': 'At vero eo', 'artifact1_chunk_4': 'ignissimos', 'artifact1_chunk_5': ' ducimus q', 'artifact1_chunk_9': 'uptatum de', 'artifact1_chunk_10': 'leniti atq', 'artifact1_chunk_14': 'as molesti', 'artifact1_chunk_15': 'as exceptu', 'artifact1_chunk_19': 'non provid', 'artifact1_chunk_20': 'ent, simil', 'artifact1_chunk_24': ' deserunt ', 'artifact1_chunk_25': 'mollitia a', 'artifact1_chunk_29': 'm fuga.'}\n",
      "node2 chunks: {'artifact2_chunk_0': '1234567890', 'artifact2_chunk_1': '1234567890', 'artifact2_chunk_3': '1234567890', 'artifact2_chunk_4': '1234567890', 'artifact3_chunk_0': 'Lorem ipsu', 'artifact3_chunk_1': 'm dolor si', 'artifact3_chunk_5': ' elit. Sed', 'artifact3_chunk_6': ' non risus', 'artifact3_chunk_10': 'ignissim s', 'artifact3_chunk_11': 'it amet, a', 'artifact3_chunk_15': 'dolor. \\nCr', 'artifact3_chunk_16': 'as element', 'artifact3_chunk_20': 'ula massa,', 'artifact3_chunk_21': ' varius a,', 'artifact3_chunk_25': 'i. Proin p', 'artifact3_chunk_26': 'orttitor, ', 'artifact3_chunk_30': 'm est elei', 'artifact3_chunk_31': 'fend mi, n', 'artifact3_chunk_35': 't erat.', 'artifact4_chunk_0': 'Sed ut per', 'artifact4_chunk_1': 'spiciatis ', 'artifact4_chunk_5': 't voluptat', 'artifact4_chunk_6': 'em accusan', 'artifact4_chunk_10': 'tam rem ap', 'artifact4_chunk_11': 'eriam, eaq', 'artifact4_chunk_15': ' veritatis', 'artifact4_chunk_16': ' et quasi ', 'artifact4_chunk_20': 'sunt expli', 'artifact4_chunk_21': 'cabo. \\nNem', 'artifact4_chunk_25': 'oluptas si', 'artifact4_chunk_26': 't aspernat', 'artifact1_chunk_0': 'At vero eo', 'artifact1_chunk_1': 's et accus', 'artifact1_chunk_5': ' ducimus q', 'artifact1_chunk_6': 'ui blandit', 'artifact1_chunk_10': 'leniti atq', 'artifact1_chunk_11': 'ue corrupt', 'artifact1_chunk_15': 'as exceptu', 'artifact1_chunk_16': 'ri sint oc', 'artifact1_chunk_20': 'ent, simil', 'artifact1_chunk_21': 'ique sunt ', 'artifact1_chunk_25': 'mollitia a', 'artifact1_chunk_26': 'nimi, id e'}\n",
      "node3 chunks: {'artifact2_chunk_1': '1234567890', 'artifact2_chunk_2': '1234567890', 'artifact2_chunk_4': '1234567890', 'artifact3_chunk_1': 'm dolor si', 'artifact3_chunk_2': 't amet, co', 'artifact3_chunk_6': ' non risus', 'artifact3_chunk_7': '. Suspendi', 'artifact3_chunk_11': 'it amet, a', 'artifact3_chunk_12': 'dipiscing ', 'artifact3_chunk_16': 'as element', 'artifact3_chunk_17': 'um ultrice', 'artifact3_chunk_21': ' varius a,', 'artifact3_chunk_22': ' semper co', 'artifact3_chunk_26': 'orttitor, ', 'artifact3_chunk_27': 'orci nec n', 'artifact3_chunk_31': 'fend mi, n', 'artifact3_chunk_32': 'on ferment', 'artifact4_chunk_1': 'spiciatis ', 'artifact4_chunk_2': 'unde omnis', 'artifact4_chunk_6': 'em accusan', 'artifact4_chunk_7': 'tium dolor', 'artifact4_chunk_11': 'eriam, eaq', 'artifact4_chunk_12': 'ue ipsa qu', 'artifact4_chunk_16': ' et quasi ', 'artifact4_chunk_17': 'architecto', 'artifact4_chunk_21': 'cabo. \\nNem', 'artifact4_chunk_22': 'o enim ips', 'artifact4_chunk_26': 't aspernat', 'artifact4_chunk_27': 'ur aut odi', 'artifact1_chunk_1': 's et accus', 'artifact1_chunk_2': 'amus et iu', 'artifact1_chunk_6': 'ui blandit', 'artifact1_chunk_7': 'iis praese', 'artifact1_chunk_11': 'ue corrupt', 'artifact1_chunk_12': 'i quos dol', 'artifact1_chunk_16': 'ri sint oc', 'artifact1_chunk_17': 'caecati cu', 'artifact1_chunk_21': 'ique sunt ', 'artifact1_chunk_22': 'in culpa q', 'artifact1_chunk_26': 'nimi, id e', 'artifact1_chunk_27': 'st laborum'}\n",
      "node4 chunks: {'artifact3_chunk_2': 't amet, co', 'artifact3_chunk_3': 'nsectetur ', 'artifact3_chunk_7': '. Suspendi', 'artifact3_chunk_8': 'sse lectus', 'artifact3_chunk_12': 'dipiscing ', 'artifact3_chunk_13': 'nec, ultri', 'artifact3_chunk_17': 'um ultrice', 'artifact3_chunk_18': 's diam. Ma', 'artifact3_chunk_22': ' semper co', 'artifact3_chunk_23': 'ngue, euis', 'artifact3_chunk_27': 'orci nec n', 'artifact3_chunk_28': 'onummy mol', 'artifact3_chunk_32': 'on ferment', 'artifact3_chunk_33': 'um diam ni', 'artifact4_chunk_2': 'unde omnis', 'artifact4_chunk_3': ' iste natu', 'artifact4_chunk_7': 'tium dolor', 'artifact4_chunk_8': 'emque laud', 'artifact4_chunk_12': 'ue ipsa qu', 'artifact4_chunk_13': 'ae ab illo', 'artifact4_chunk_17': 'architecto', 'artifact4_chunk_18': ' beatae vi', 'artifact4_chunk_22': 'o enim ips', 'artifact4_chunk_23': 'am volupta', 'artifact4_chunk_27': 'ur aut odi', 'artifact4_chunk_28': 't aut fugi', 'artifact1_chunk_2': 'amus et iu', 'artifact1_chunk_3': 'sto odio d', 'artifact1_chunk_7': 'iis praese', 'artifact1_chunk_8': 'ntium \\nvol', 'artifact1_chunk_12': 'i quos dol', 'artifact1_chunk_13': 'ores et qu', 'artifact1_chunk_17': 'caecati cu', 'artifact1_chunk_18': 'piditate \\n', 'artifact1_chunk_22': 'in culpa q', 'artifact1_chunk_23': 'ui officia', 'artifact1_chunk_27': 'st laborum', 'artifact1_chunk_28': ' et doloru'}\n",
      "node5 chunks: {'artifact3_chunk_3': 'nsectetur ', 'artifact3_chunk_4': 'adipiscing', 'artifact3_chunk_8': 'sse lectus', 'artifact3_chunk_9': ' tortor, d', 'artifact3_chunk_13': 'nec, ultri', 'artifact3_chunk_14': 'cies sed, ', 'artifact3_chunk_18': 's diam. Ma', 'artifact3_chunk_19': 'ecenas lig', 'artifact3_chunk_23': 'ngue, euis', 'artifact3_chunk_24': 'mod non, m', 'artifact3_chunk_28': 'onummy mol', 'artifact3_chunk_29': 'estie, eni', 'artifact3_chunk_33': 'um diam ni', 'artifact3_chunk_34': 'sl sit ame', 'artifact4_chunk_3': ' iste natu', 'artifact4_chunk_4': 's error si', 'artifact4_chunk_8': 'emque laud', 'artifact4_chunk_9': 'antium, to', 'artifact4_chunk_13': 'ae ab illo', 'artifact4_chunk_14': ' inventore', 'artifact4_chunk_18': ' beatae vi', 'artifact4_chunk_19': 'tae dicta ', 'artifact4_chunk_23': 'am volupta', 'artifact4_chunk_24': 'tem quia v', 'artifact4_chunk_28': 't aut fugi', 'artifact4_chunk_29': 't.', 'artifact1_chunk_3': 'sto odio d', 'artifact1_chunk_4': 'ignissimos', 'artifact1_chunk_8': 'ntium \\nvol', 'artifact1_chunk_9': 'uptatum de', 'artifact1_chunk_13': 'ores et qu', 'artifact1_chunk_14': 'as molesti', 'artifact1_chunk_18': 'piditate \\n', 'artifact1_chunk_19': 'non provid', 'artifact1_chunk_23': 'ui officia', 'artifact1_chunk_24': ' deserunt ', 'artifact1_chunk_28': ' et doloru', 'artifact1_chunk_29': 'm fuga.'}\n"
     ]
    }
   ],
   "source": [
    "artifact5 = \"\"\"At vero eos et accusamus et iusto odio dignissimos ducimus qui blanditiis praesentium \n",
    "voluptatum deleniti atque corrupti quos dolores et quas molestias excepturi sint occaecati cupiditate \n",
    "non provident, similique sunt in culpa qui officia deserunt mollitia animi, id est laborum et dolorum fuga.\"\"\"\n",
    "\n",
    "ray.get(nn.reupload_artifact.remote(\"artifact1\", artifact5))\n",
    "\n",
    "print(\"read artifact1 after reupload:\", ray.get(nn.read_artifact.remote(\"artifact1\")))\n",
    "print(\"locations artifact1:\", ray.get(nn.locate.remote(\"artifact1\")))\n",
    "\n",
    "print(\"all artifacts:\", ray.get(nn.list_artifacts.remote()))\n",
    "print(\"all nodes:\", ray.get(nn.list_nodes.remote()))\n",
    "\n",
    "print(\"node1 chunks:\", ray.get(nn.list_node.remote(\"node1\")))\n",
    "print(\"node2 chunks:\", ray.get(nn.list_node.remote(\"node2\")))\n",
    "print(\"node3 chunks:\", ray.get(nn.list_node.remote(\"node3\")))\n",
    "print(\"node4 chunks:\", ray.get(nn.list_node.remote(\"node4\")))\n",
    "print(\"node5 chunks:\", ray.get(nn.list_node.remote(\"node5\")))"
   ]
  },
  {
   "cell_type": "code",
   "execution_count": null,
   "id": "377505c7",
   "metadata": {},
   "outputs": [],
   "source": []
  }
 ],
 "metadata": {
  "kernelspec": {
   "display_name": "Python 3",
   "language": "python",
   "name": "python3"
  },
  "language_info": {
   "codemirror_mode": {
    "name": "ipython",
    "version": 3
   },
   "file_extension": ".py",
   "mimetype": "text/x-python",
   "name": "python",
   "nbconvert_exporter": "python",
   "pygments_lexer": "ipython3",
   "version": "3.11.9"
  }
 },
 "nbformat": 4,
 "nbformat_minor": 5
}
